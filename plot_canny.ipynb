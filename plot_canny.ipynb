{
  "cells": [
    {
      "cell_type": "code",
      "execution_count": null,
      "metadata": {
        "collapsed": false
      },
      "outputs": [],
      "source": [
        "%matplotlib inline"
      ]
    },
    {
      "cell_type": "markdown",
      "metadata": {},
      "source": [
        "\n# Canny edge detector\n\n\nThe Canny filter is a multi-stage edge detector. It uses a filter based on the\nderivative of a Gaussian in order to compute the intensity of the gradients.The\nGaussian reduces the effect of noise present in the image. Then, potential\nedges are thinned down to 1-pixel curves by removing non-maximum pixels of the\ngradient magnitude. Finally, edge pixels are kept or removed using hysteresis\nthresholding on the gradient magnitude.\n\nThe Canny has three adjustable parameters: the width of the Gaussian (the\nnoisier the image, the greater the width), and the low and high threshold for\nthe hysteresis thresholding.\n\n\n"
      ]
    },
    {
      "cell_type": "code",
      "execution_count": null,
      "metadata": {
        "collapsed": false
      },
      "outputs": [],
      "source": [
        "
# coding: utf-8

# In[8]:


'''def filesys(self):
    print "Enter Files from Farmer Registery"
    self.files = open('dir.txt', 'w')
    self.files.write(a=raw_input())
    print "Enter no of crops"
    n=raw_input()
    
    import random
    for x in range(10000):
       self.datakey=random.randint(1,len(a))
    return self.datakey'''
class Graph():
    def __init__(self):
        self.vertex = {}

    # for printing the Graph vertexes
    def printGraph(self):
        print(self.vertex)
        for i in self.vertex.keys():
            print(i,' -> ', ' -> '.join([str(j) for j in self.vertex[i]]))

    # for adding the edge beween two vertexes
    def addEdge(self, fromVertex, toVertex):
        # check if vertex is already present,
        if fromVertex in self.vertex.keys():
            self.vertex[fromVertex].append(toVertex)
        else:
            # else make a new vertex
            self.vertex[fromVertex] = [toVertex]

    def DFS(self):
        # visited array for storing already visited nodes
        visited = [False] * len(self.vertex)

        # call the recursive helper function
        for i in range(len(self.vertex)):
            if visited[i] == False:
                self.DFSRec(i, visited)

    def DFSRec(self, startVertex, visited):
        # mark start vertex as visited
        visited[startVertex] = True

        print(startVertex)

        # Recur for all the vertexes that are adjacent to this node
        for i in self.vertex.keys():
            if visited[i] == False:
                self.DFSRec(i, visited)
    def kruskals(self):
        result = []

        sortedIndex = 0
        resultIndex = 0

        # sort all the edges according to their weights inn ascending order
        self.graph =  sorted(self.graph,key=lambda item: item[2])

        parent = []
        rank = []

        for node in range(self.vertices):
            parent.append(node)
            rank.append(0)

        while resultIndex < self.vertices - 1:
            fromEdge, toEdge, weight = self.graph[sortedIndex]

            sortedIndex += 1
            root_x = self.find(parent, fromEdge)
            root_y = self.find(parent, toEdge)

            if root_x != root_y:
                resultIndex += 1
                result.append([fromEdge, toEdge, weight])
                self.union(parent, rank, root_x, root_y)

        # print the contents of result[] to display the built MST
        print ('Constructed Kruskal\'s Minimum Spanning Tree: ')
        for u,v,weight  in result:
            print('{} -> {} = {}'.format(u, v, weight))

class FA():
   
   '''def  __init__(self):
       self.name=name
       self.datakey=fileno
       self.data=[]'''
   def soilindex(self,crop,index):
       print ('Enter no of crops')
       n=int(raw_input())
       for i in range(0,n):
             self.data[crop]=index    
   def  dataparse(self,fileno):
      '''for i in files:
            if self.datakey == filesys():
                for line in open('myfile.txt'):        
                    self.data.append(line)'''
   def crop_pattern(self):
               self.plot = Graph()
               print ("Give number of lots and layout of the field")
               m=int(input('lots'))
               for i in range(0,m):
                       print ('Give no of lots neighbours then their index')
                       m_l=int(input())
                       for j in range(0,m_l):
                          self.plot.addEdge(int(input('initial lot')),int(input('neighbouring lot')))
   
   def canal1(self):
       self.plot.printGraph()
       self.plot.DFS()
   
          
       
                              
if __name__ == '__main__':
      
      F1=FA()
      F1.crop_pattern()
      F1.canal1()
     
               
               


# In[9]:


get_ipython().magic(u'matplotlib inline')


# In[10]:


import numpy as np
import matplotlib.pyplot as plt
from scipy import ndimage as ndi
import numpy as np
import matplotlib.pyplot as plt
from scipy import ndimage as ndi

import numpy as np
import matplotlib.pyplot as plt
from scipy import ndimage as ndi

from skimage import feature
import random
for i in range(0,50):
        # Generate noisy image of a square
        im = np.zeros((128, 128))
        for i in range(0,128):
            for j in range(0,128):
                if (i==0 and j==0) or (i==32 and j==32) or (i==17 and j==32) or (i==65 and j==45) or (i==96 and j==96):
                    im[i:i+16,j:j+16]=1
                    im[random.randint(1,128):random.randint(1,128)+16,random.randint(1,128):random.randint(1,128)+16]=1


        im = ndi.gaussian_filter(im, 4)
        im += 0.2 * np.random.random(im.shape)



        edges2 = feature.canny(im, sigma=3)


        fig, (ax1, ax3) = plt.subplots(nrows=1, ncols=2, figsize=(8, 3),
                                            sharex=True, sharey=True)

        ax1.imshow(im, cmap=plt.cm.gray)
        ax1.axis('off')
        ax1.set_title('', fontsize=20)



        ax3.imshow(edges2, cmap=plt.cm.gray)
        ax3.axis('off')
        ax3.set_title('', fontsize=20)

        fig.tight_layout()

        plt.show()

"
      ]
    }
  ],
  "metadata": {
    "kernelspec": {
      "display_name": "Python 3",
      "language": "python",
      "name": "python3"
    },
    "language_info": {
      "codemirror_mode": {
        "name": "ipython",
        "version": 3
      },
      "file_extension": ".py",
      "mimetype": "text/x-python",
      "name": "python",
      "nbconvert_exporter": "python",
      "pygments_lexer": "ipython3",
      "version": "3.6.3"
    }
  },
  "nbformat": 4,
  "nbformat_minor": 0
}
